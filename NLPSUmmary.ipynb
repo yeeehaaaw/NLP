{
  "nbformat": 4,
  "nbformat_minor": 0,
  "metadata": {
    "colab": {
      "provenance": []
    },
    "kernelspec": {
      "name": "python3",
      "display_name": "Python 3"
    },
    "language_info": {
      "name": "python"
    }
  },
  "cells": [
    {
      "cell_type": "code",
      "execution_count": null,
      "metadata": {
        "colab": {
          "base_uri": "https://localhost:8080/"
        },
        "id": "aUKwZEKu3Poi",
        "outputId": "f09892b8-003e-4edb-de44-8acf9b928154"
      },
      "outputs": [
        {
          "output_type": "stream",
          "name": "stderr",
          "text": [
            "[nltk_data] Downloading package stopwords to /root/nltk_data...\n",
            "[nltk_data]   Package stopwords is already up-to-date!\n",
            "[nltk_data] Downloading package punkt to /root/nltk_data...\n",
            "[nltk_data]   Package punkt is already up-to-date!\n",
            "[nltk_data] Downloading package punkt_tab to /root/nltk_data...\n",
            "[nltk_data]   Package punkt_tab is already up-to-date!\n"
          ]
        },
        {
          "output_type": "execute_result",
          "data": {
            "text/plain": [
              "True"
            ]
          },
          "metadata": {},
          "execution_count": 12
        }
      ],
      "source": [
        "import nltk\n",
        "from nltk.corpus import stopwords\n",
        "from nltk.tokenize import word_tokenize, sent_tokenize\n",
        "from collections import Counter\n",
        "import matplotlib.pyplot as plt\n",
        "import re\n",
        "from sklearn.feature_extraction.text import TfidfVectorizer\n",
        "from sklearn.model_selection import train_test_split\n",
        "from sklearn.linear_model import LogisticRegression\n",
        "from sklearn.metrics import accuracy_score, precision_score, recall_score, f1_score\n",
        "from gensim.models import Word2Vec\n",
        "import numpy as np\n",
        "from keras.models import Sequential\n",
        "from keras.layers import Embedding, LSTM, Dense\n",
        "\n",
        "# Downloading necessary NLTK data\n",
        "nltk.download('stopwords')\n",
        "nltk.download('punkt')\n",
        "nltk.download('punkt_tab')\n",
        "\n"
      ]
    },
    {
      "cell_type": "code",
      "source": [
        "# Input text\n",
        "text = \"\"\"\n",
        "Once upon a time, a magical golden flower grew in a hidden location. This flower had the power to heal and restore life.\n",
        "An old woman named Gothel discovered it and used its magic to keep herself young for centuries. However, when the queen of a nearby kingdom fell gravely ill during pregnancy, the flower was discovered and used to heal her. The queen gave birth to a baby girl, Rapunzel, whose hair inherited the flower’s magical properties.\n",
        "\n",
        "Desperate to regain her youth, Gothel kidnapped Rapunzel and locked her in a tall tower hidden in the forest.\n",
        "Rapunzel grew up believing Gothel was her mother and that the world outside was too dangerous to explore.\n",
        "She spent her days painting, reading, and brushing her 70 feet of golden hair, dreaming of the floating lanterns she saw in the sky every year on her birthday.\n",
        "\n",
        "One day, a thief named Flynn Rider stumbled upon Rapunzel's tower while escaping the royal guards after stealing a crown.\n",
        "Rapunzel captured him and struck a deal—she would return the crown if Flynn took her to see the floating lanterns.\n",
        "Reluctantly, Flynn agreed, and the two embarked on an adventure filled with danger, discovery, and unexpected friendship.\n",
        "\n",
        "Along the way, Rapunzel discovered her true identity as the lost princess and realized Gothel had lied to her.\n",
        "With Flynn’s help, she returned to the kingdom and reunited with her real parents. Gothel’s evil plans were foiled, and she was defeated.\n",
        "\n",
        "Rapunzel’s bravery and kindness brought joy back to the kingdom. She and Flynn fell in love, and they lived happily ever after, with lanterns lighting the sky on every special occasion.\n",
        "\"\"\"\n",
        "\n",
        "\n"
      ],
      "metadata": {
        "id": "rVWS5-N33X6Y"
      },
      "execution_count": null,
      "outputs": []
    },
    {
      "cell_type": "code",
      "source": [
        "# Clean the text\n",
        "cleaned_text = re.sub(r'[^\\w\\s]', '', text)  # Remove punctuation\n",
        "cleaned_text = re.sub(r'\\d+', '', cleaned_text)  # Remove numbers\n",
        "cleaned_text = cleaned_text.lower()  # Convert to lowercase\n",
        "\n",
        "# Tokenizing the text\n",
        "stopWords = set(stopwords.words(\"english\"))\n",
        "words = word_tokenize(cleaned_text)\n",
        "\n"
      ],
      "metadata": {
        "id": "8WhKG8i53bAe"
      },
      "execution_count": null,
      "outputs": []
    },
    {
      "cell_type": "code",
      "source": [
        "# Frequency Table\n",
        "freqTable = dict()\n",
        "for word in words:\n",
        "    if word in stopWords:\n",
        "        continue\n",
        "    if word in freqTable:\n",
        "        freqTable[word] += 1\n",
        "    else:\n",
        "        freqTable[word] = 1\n",
        "\n",
        "# Sentence Tokenization\n",
        "sentences = sent_tokenize(cleaned_text)\n",
        "sentenceValue = dict()\n",
        "for sentence in sentences:\n",
        "    for word, freq in freqTable.items():\n",
        "        if word in sentence.lower():\n",
        "            if sentence in sentenceValue:\n",
        "                sentenceValue[sentence] += freq\n",
        "            else:\n",
        "                sentenceValue[sentence] = freq\n",
        "\n"
      ],
      "metadata": {
        "id": "Yh70Ek_n3a8_"
      },
      "execution_count": null,
      "outputs": []
    },
    {
      "cell_type": "code",
      "source": [
        "sumValues = 0\n",
        "for sentence in sentenceValue:\n",
        "\tsumValues += sentenceValue[sentence]\n",
        "# Average value of a sentence from the original text\n",
        "\n",
        "average = int(sumValues / len(sentenceValue))\n",
        "\n",
        "# Storing sentences into our summary.\n",
        "summary = ''\n",
        "for sentence in sentences:\n",
        "\tif (sentence in sentenceValue) and (sentenceValue[sentence] > (1.2* average)):\n",
        "\t\tsummary += \" \" + sentence\n",
        "\n",
        "\n",
        "print(summary)\n"
      ],
      "metadata": {
        "colab": {
          "base_uri": "https://localhost:8080/"
        },
        "id": "lxFuaqup3a6O",
        "outputId": "faa8ca5f-ebac-4682-8302-06e4e35f4780"
      },
      "execution_count": null,
      "outputs": [
        {
          "output_type": "stream",
          "name": "stdout",
          "text": [
            "\n"
          ]
        }
      ]
    },
    {
      "cell_type": "code",
      "source": [
        "# EDA: Word and sentence count\n",
        "print(f\"Total words: {len(words)}\")\n",
        "print(f\"Total sentences: {len(sentences)}\")\n",
        "print(f\"Unique words: {len(set(words))}\")\n",
        "\n",
        "# Most common words\n",
        "most_common_words = Counter(freqTable).most_common(10)\n",
        "print(\"Most common words:\", most_common_words)\n",
        "\n"
      ],
      "metadata": {
        "colab": {
          "base_uri": "https://localhost:8080/"
        },
        "id": "YqV8-QOG3a3v",
        "outputId": "a148f869-bae4-45d3-884f-2f7756736d3b"
      },
      "execution_count": null,
      "outputs": [
        {
          "output_type": "stream",
          "name": "stdout",
          "text": [
            "Total words: 273\n",
            "Total sentences: 1\n",
            "Unique words: 159\n",
            "Most common words: [('rapunzel', 5), ('gothel', 4), ('flynn', 4), ('flower', 3), ('discovered', 3), ('kingdom', 3), ('lanterns', 3), ('upon', 2), ('magical', 2), ('golden', 2)]\n"
          ]
        }
      ]
    },
    {
      "cell_type": "code",
      "source": [
        "# Visualization of word frequencies\n",
        "word_labels, word_counts = zip(*most_common_words)\n",
        "plt.bar(word_labels, word_counts)\n",
        "plt.xlabel('Words')\n",
        "plt.ylabel('Frequency')\n",
        "plt.title('Top 10 Most Frequent Words')\n",
        "plt.show()\n",
        "\n"
      ],
      "metadata": {
        "colab": {
          "base_uri": "https://localhost:8080/",
          "height": 472
        },
        "id": "vSdUQwmq3a1W",
        "outputId": "04680d15-8616-48d4-9618-64a57e2f41a3"
      },
      "execution_count": null,
      "outputs": [
        {
          "output_type": "display_data",
          "data": {
            "text/plain": [
              "<Figure size 640x480 with 1 Axes>"
            ],
            "image/png": "[encoded data removed]"
          },
          "metadata": {}
        }
      ]
    },
    {
      "cell_type": "code",
      "source": [
        "# ---- TF-IDF Embedding ----\n",
        "# TF-IDF Vectorization\n",
        "tfidf = TfidfVectorizer(stop_words='english')\n",
        "tfidf_matrix = tfidf.fit_transform(sentences)\n",
        "\n",
        "\n"
      ],
      "metadata": {
        "id": "gwkfRWw23ayy"
      },
      "execution_count": null,
      "outputs": []
    },
    {
      "cell_type": "code",
      "source": [
        "# Tokenize sentences for Word2Vec\n",
        "tokenized_sentences = [word_tokenize(sentence.lower()) for sentence in sentences]\n",
        "\n",
        "# Train a Word2Vec model on the corpus (skip-gram method)\n",
        "word2vec_model = Word2Vec(sentences=tokenized_sentences, vector_size=100, window=5, min_count=1, sg=1)\n",
        "\n",
        "\n",
        "# ---- Train Model using Word2Vec ----\n",
        "word_vectors = np.array([word2vec_model.wv[word] for word in words if word in word2vec_model.wv])\n",
        "\n"
      ],
      "metadata": {
        "id": "OfzzzNqX33JC"
      },
      "execution_count": null,
      "outputs": []
    },
    {
      "cell_type": "code",
      "source": [
        "# Simple Logistic Regression for classification\n",
        "# Change the target variable list to iterate over 'words' instead of 'sentence'\n",
        "# Instead of checking for 'princess', we will check if the word is in the most_common_words\n",
        "X_train, X_test, y_train, y_test = train_test_split(\n",
        "    word_vectors,\n",
        "    [1 if word in [w for w, c in most_common_words] else 0 for word in words if word in word2vec_model.wv],\n",
        "    test_size=0.2,\n",
        "    random_state=42\n",
        ")\n",
        "\n",
        "# Logistic Regression model\n",
        "model = LogisticRegression()\n",
        "model.fit(X_train, y_train)\n",
        "y_pred = model.predict(X_test)"
      ],
      "metadata": {
        "id": "CX65U19_33Fj"
      },
      "execution_count": null,
      "outputs": []
    },
    {
      "cell_type": "code",
      "source": [
        "from sklearn.metrics import accuracy_score, precision_score, recall_score, f1_score\n",
        "\n",
        "accuracy = accuracy_score(y_test, y_pred)\n",
        "precision = precision_score(y_test, y_pred, average='weighted')\n",
        "recall = recall_score(y_test, y_pred, average='weighted')\n",
        "f1 = f1_score(y_test, y_pred, average='weighted')\n",
        "\n",
        "\n",
        "print(\"Accuracy:\", accuracy)\n",
        "print(\"Precision:\", precision)\n",
        "print(\"Recall:\", recall)\n",
        "print(\"F1-Score:\", f1)"
      ],
      "metadata": {
        "colab": {
          "base_uri": "https://localhost:8080/"
        },
        "id": "6b5WQknVxayC",
        "outputId": "aa3edb98-f250-47b3-a6bc-4ae2ab4f2257"
      },
      "execution_count": null,
      "outputs": [
        {
          "output_type": "stream",
          "name": "stdout",
          "text": [
            "Accuracy: 0.8909090909090909\n",
            "Precision: 0.7937190082644628\n",
            "Recall: 0.8909090909090909\n",
            "F1-Score: 0.8395104895104895\n"
          ]
        },
        {
          "output_type": "stream",
          "name": "stderr",
          "text": [
            "/usr/local/lib/python3.10/dist-packages/sklearn/metrics/_classification.py:1531: UndefinedMetricWarning: Precision is ill-defined and being set to 0.0 in labels with no predicted samples. Use `zero_division` parameter to control this behavior.\n",
            "  _warn_prf(average, modifier, f\"{metric.capitalize()} is\", len(result))\n"
          ]
        }
      ]
    }
  ]
}